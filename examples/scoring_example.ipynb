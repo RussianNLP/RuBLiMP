{
 "cells": [
  {
   "cell_type": "code",
   "execution_count": null,
   "metadata": {
    "id": "UnvyQbdBJemf"
   },
   "outputs": [],
   "source": [
    "!pip install -U transformers datasets"
   ]
  },
  {
   "cell_type": "code",
   "execution_count": null,
   "metadata": {},
   "outputs": [],
   "source": [
    "%cd ../"
   ]
  },
  {
   "cell_type": "markdown",
   "metadata": {
    "id": "4RE2mA8ALDFS"
   },
   "source": [
    "## An example for scoring an encoder LM on RuBLiMP\n",
    "\n",
    "Here, we show how to score an encoder and decoder LM not decontaminated with RuBLiMP (that is, an external LM of interest) using a dataset sample.\n"
   ]
  },
  {
   "cell_type": "code",
   "execution_count": 5,
   "metadata": {
    "colab": {
     "base_uri": "https://localhost:8080/",
     "height": 189
    },
    "id": "2MKO-qyELWdl",
    "outputId": "69b71f66-0f9a-4c13-a3ff-3957f3ee9f08"
   },
   "outputs": [
    {
     "data": {
      "application/vnd.google.colaboratory.intrinsic+json": {
       "summary": "{\n  \"name\": \"add_new_suffix\",\n  \"rows\": 1000,\n  \"fields\": [\n    {\n      \"column\": \"id\",\n      \"properties\": {\n        \"dtype\": \"number\",\n        \"std\": 64771,\n        \"min\": 375,\n        \"max\": 358386,\n        \"num_unique_values\": 1000,\n        \"samples\": [\n          298928,\n          239915,\n          211547\n        ],\n        \"semantic_type\": \"\",\n        \"description\": \"\"\n      }\n    },\n    {\n      \"column\": \"source_sentence\",\n      \"properties\": {\n        \"dtype\": \"string\",\n        \"num_unique_values\": 1000,\n        \"samples\": [\n          \"\\u0414\\u0440\\u0443\\u0433\\u0438\\u0435 \\u0441\\u0435\\u043b\\u0430 \\u041f\\u043e\\u0440\\u0441\\u043e\\u0432\\u0438\\u043d\\u0441\\u043a\\u043e\\u0433\\u043e \\u0441\\u0435\\u043b\\u044c\\u0441\\u043e\\u0432\\u0435\\u0442\\u0430 \\u2014 \\u0425\\u043e\\u043d\\u0443\\u0431\\u0430, \\u0425\\u043e\\u043d\\u0443\\u0431\\u0430 \\u0428\\u0438\\u0445\\u043b\\u0430\\u0440, \\u0413\\u044e\\u0433\\u044f\\u0432\\u0430\\u0440, \\u0417\\u0435\\u0439\\u043d\\u044f\\u043b\\u044f\\u0437\\u0438\\u0440, \\u0422\\u0438\\u043b\\u044f\\u043a\\u0435\\u043d\\u0434.\",\n          \"\\u042f\\u0448\\u043a\\u0430 \\u0442\\u043e\\u0436\\u0435, \\u043a\\u0430\\u043a \\u0432\\u044b\\u0442\\u043d\\u044b\\u0439, \\u043f\\u043e\\u0440\\u044f\\u0434\\u043e\\u043a \\u0432\\u0435\\u0434\\u0435\\u0442.\",\n          \"\\u0410 \\u0441\\u0445\\u043e\\u0434\\u0441\\u0442\\u0432\\u043e, \\u0415\\u043b\\u044c\\u0433\\u0438\\u0434\\u0435\\u0435\\u0432 \\u2013 \\u044d\\u0442\\u043e \\u0434\\u0435\\u043b\\u043e \\u043d\\u0430\\u0436\\u0438\\u0432\\u043d\\u043e\\u0435.\"\n        ],\n        \"semantic_type\": \"\",\n        \"description\": \"\"\n      }\n    },\n    {\n      \"column\": \"target_sentence\",\n      \"properties\": {\n        \"dtype\": \"string\",\n        \"num_unique_values\": 1000,\n        \"samples\": [\n          \"\\u0414\\u0440\\u0443\\u0433\\u0438\\u0435 \\u0441\\u0435\\u043b\\u0430 \\u041f\\u043e\\u0440\\u0441\\u043e\\u0432\\u0438\\u043d\\u0441\\u043a\\u043e\\u0433\\u043e \\u0441\\u0435\\u043b\\u044c\\u0441\\u043e\\u0432\\u0435\\u0442\\u0441\\u0442\\u0432\\u0430 \\u2014 \\u0425\\u043e\\u043d\\u0443\\u0431\\u0430, \\u0425\\u043e\\u043d\\u0443\\u0431\\u0430 \\u0428\\u0438\\u0445\\u043b\\u0430\\u0440, \\u0413\\u044e\\u0433\\u044f\\u0432\\u0430\\u0440, \\u0417\\u0435\\u0439\\u043d\\u044f\\u043b\\u044f\\u0437\\u0438\\u0440, \\u0422\\u0438\\u043b\\u044f\\u043a\\u0435\\u043d\\u0434.\",\n          \"\\u042f\\u0448\\u043a\\u0430 \\u0442\\u043e\\u0436\\u0435, \\u043a\\u0430\\u043a \\u0432\\u044b\\u0442\\u043d\\u044b\\u0439, \\u043f\\u043e\\u0440\\u044f\\u0434\\u043e\\u0441\\u0442\\u043e\\u043a \\u0432\\u0435\\u0434\\u0435\\u0442.\",\n          \"\\u0410 \\u0441\\u0445\\u043e\\u0434\\u0441\\u0442\\u0432\\u043e, \\u0415\\u043b\\u044c\\u0433\\u0438\\u0434\\u0435\\u0435\\u0432 \\u2013 \\u044d\\u0442\\u043e \\u0434\\u0435\\u043b\\u043d\\u0438\\u043a\\u043e \\u043d\\u0430\\u0436\\u0438\\u0432\\u043d\\u043e\\u0435.\"\n        ],\n        \"semantic_type\": \"\",\n        \"description\": \"\"\n      }\n    },\n    {\n      \"column\": \"source_word\",\n      \"properties\": {\n        \"dtype\": \"string\",\n        \"num_unique_values\": 657,\n        \"samples\": [\n          \"\\u0442\\u0435\\u043b\\u0435\\u0433\\u0440\\u0430\\u0444\",\n          \"\\u043f\\u0440\\u043e\\u0442\\u0438\\u0432\\u043e\\u043f\\u043e\\u043b\\u043e\\u0436\\u043d\\u0443\\u044e\",\n          \"\\u0431\\u0435\\u0434\\u043d\\u043e\\u0433\\u043e\"\n        ],\n        \"semantic_type\": \"\",\n        \"description\": \"\"\n      }\n    },\n    {\n      \"column\": \"target_word\",\n      \"properties\": {\n        \"dtype\": \"string\",\n        \"num_unique_values\": 657,\n        \"samples\": [\n          \"\\u0442\\u0435\\u043b\\u0435\\u0433\\u0440\\u0430\\u0444\\u0438\\u043a\",\n          \"\\u043f\\u0440\\u043e\\u0442\\u0438\\u0432\\u043e\\u043f\\u043e\\u043b\\u043e\\u0436\\u0438\\u0441\\u0442\\u043d\\u0443\\u044e\",\n          \"\\u0431\\u0435\\u0434\\u0430\\u0442\\u043d\\u043e\\u0433\\u043e\"\n        ],\n        \"semantic_type\": \"\",\n        \"description\": \"\"\n      }\n    },\n    {\n      \"column\": \"level\",\n      \"properties\": {\n        \"dtype\": \"category\",\n        \"num_unique_values\": 1,\n        \"samples\": [\n          \"Morphology\"\n        ],\n        \"semantic_type\": \"\",\n        \"description\": \"\"\n      }\n    },\n    {\n      \"column\": \"phenomenon\",\n      \"properties\": {\n        \"dtype\": \"category\",\n        \"num_unique_values\": 1,\n        \"samples\": [\n          \"Word Formation\"\n        ],\n        \"semantic_type\": \"\",\n        \"description\": \"\"\n      }\n    },\n    {\n      \"column\": \"PID\",\n      \"properties\": {\n        \"dtype\": \"category\",\n        \"num_unique_values\": 1,\n        \"samples\": [\n          \"add_new_suffix\"\n        ],\n        \"semantic_type\": \"\",\n        \"description\": \"\"\n      }\n    },\n    {\n      \"column\": \"subtype\",\n      \"properties\": {\n        \"dtype\": \"category\",\n        \"num_unique_values\": 1,\n        \"samples\": [\n          \"add_new_suffix\"\n        ],\n        \"semantic_type\": \"\",\n        \"description\": \"\"\n      }\n    },\n    {\n      \"column\": \"domain\",\n      \"properties\": {\n        \"dtype\": \"category\",\n        \"num_unique_values\": 3,\n        \"samples\": [\n          \"librusec\"\n        ],\n        \"semantic_type\": \"\",\n        \"description\": \"\"\n      }\n    },\n    {\n      \"column\": \"tree_length\",\n      \"properties\": {\n        \"dtype\": \"number\",\n        \"std\": 1,\n        \"min\": 1,\n        \"max\": 13,\n        \"num_unique_values\": 12,\n        \"samples\": [\n          13\n        ],\n        \"semantic_type\": \"\",\n        \"description\": \"\"\n      }\n    }\n  ]\n}",
       "type": "dataframe",
       "variable_name": "add_new_suffix"
      },
      "text/html": [
       "\n",
       "  <div id=\"df-519b9fb2-effb-4b16-94fc-45143748d00c\" class=\"colab-df-container\">\n",
       "    <div>\n",
       "<style scoped>\n",
       "    .dataframe tbody tr th:only-of-type {\n",
       "        vertical-align: middle;\n",
       "    }\n",
       "\n",
       "    .dataframe tbody tr th {\n",
       "        vertical-align: top;\n",
       "    }\n",
       "\n",
       "    .dataframe thead th {\n",
       "        text-align: right;\n",
       "    }\n",
       "</style>\n",
       "<table border=\"1\" class=\"dataframe\">\n",
       "  <thead>\n",
       "    <tr style=\"text-align: right;\">\n",
       "      <th></th>\n",
       "      <th>id</th>\n",
       "      <th>source_sentence</th>\n",
       "      <th>target_sentence</th>\n",
       "      <th>source_word</th>\n",
       "      <th>target_word</th>\n",
       "      <th>level</th>\n",
       "      <th>phenomenon</th>\n",
       "      <th>PID</th>\n",
       "      <th>subtype</th>\n",
       "      <th>domain</th>\n",
       "      <th>tree_length</th>\n",
       "    </tr>\n",
       "  </thead>\n",
       "  <tbody>\n",
       "    <tr>\n",
       "      <th>0</th>\n",
       "      <td>132968</td>\n",
       "      <td>Руками обхватила широкие плечи Окота.</td>\n",
       "      <td>Руками обхватила широкие плечники Окота.</td>\n",
       "      <td>плечи</td>\n",
       "      <td>плечники</td>\n",
       "      <td>Morphology</td>\n",
       "      <td>Word Formation</td>\n",
       "      <td>add_new_suffix</td>\n",
       "      <td>add_new_suffix</td>\n",
       "      <td>librusec</td>\n",
       "      <td>2</td>\n",
       "    </tr>\n",
       "    <tr>\n",
       "      <th>1</th>\n",
       "      <td>211801</td>\n",
       "      <td>Под левый сосок в междуреберье.</td>\n",
       "      <td>Под левый сосокщик в междуреберье.</td>\n",
       "      <td>сосок</td>\n",
       "      <td>сосокщик</td>\n",
       "      <td>Morphology</td>\n",
       "      <td>Word Formation</td>\n",
       "      <td>add_new_suffix</td>\n",
       "      <td>add_new_suffix</td>\n",
       "      <td>librusec</td>\n",
       "      <td>2</td>\n",
       "    </tr>\n",
       "    <tr>\n",
       "      <th>2</th>\n",
       "      <td>168527</td>\n",
       "      <td>Спуск темною ночью в Никиту...</td>\n",
       "      <td>Спуск темоватною ночью в Никиту...</td>\n",
       "      <td>темною</td>\n",
       "      <td>темоватною</td>\n",
       "      <td>Morphology</td>\n",
       "      <td>Word Formation</td>\n",
       "      <td>add_new_suffix</td>\n",
       "      <td>add_new_suffix</td>\n",
       "      <td>librusec</td>\n",
       "      <td>3</td>\n",
       "    </tr>\n",
       "  </tbody>\n",
       "</table>\n",
       "</div>\n",
       "    <div class=\"colab-df-buttons\">\n",
       "\n",
       "  <div class=\"colab-df-container\">\n",
       "    <button class=\"colab-df-convert\" onclick=\"convertToInteractive('df-519b9fb2-effb-4b16-94fc-45143748d00c')\"\n",
       "            title=\"Convert this dataframe to an interactive table.\"\n",
       "            style=\"display:none;\">\n",
       "\n",
       "  <svg xmlns=\"http://www.w3.org/2000/svg\" height=\"24px\" viewBox=\"0 -960 960 960\">\n",
       "    <path d=\"M120-120v-720h720v720H120Zm60-500h600v-160H180v160Zm220 220h160v-160H400v160Zm0 220h160v-160H400v160ZM180-400h160v-160H180v160Zm440 0h160v-160H620v160ZM180-180h160v-160H180v160Zm440 0h160v-160H620v160Z\"/>\n",
       "  </svg>\n",
       "    </button>\n",
       "\n",
       "  <style>\n",
       "    .colab-df-container {\n",
       "      display:flex;\n",
       "      gap: 12px;\n",
       "    }\n",
       "\n",
       "    .colab-df-convert {\n",
       "      background-color: #E8F0FE;\n",
       "      border: none;\n",
       "      border-radius: 50%;\n",
       "      cursor: pointer;\n",
       "      display: none;\n",
       "      fill: #1967D2;\n",
       "      height: 32px;\n",
       "      padding: 0 0 0 0;\n",
       "      width: 32px;\n",
       "    }\n",
       "\n",
       "    .colab-df-convert:hover {\n",
       "      background-color: #E2EBFA;\n",
       "      box-shadow: 0px 1px 2px rgba(60, 64, 67, 0.3), 0px 1px 3px 1px rgba(60, 64, 67, 0.15);\n",
       "      fill: #174EA6;\n",
       "    }\n",
       "\n",
       "    .colab-df-buttons div {\n",
       "      margin-bottom: 4px;\n",
       "    }\n",
       "\n",
       "    [theme=dark] .colab-df-convert {\n",
       "      background-color: #3B4455;\n",
       "      fill: #D2E3FC;\n",
       "    }\n",
       "\n",
       "    [theme=dark] .colab-df-convert:hover {\n",
       "      background-color: #434B5C;\n",
       "      box-shadow: 0px 1px 3px 1px rgba(0, 0, 0, 0.15);\n",
       "      filter: drop-shadow(0px 1px 2px rgba(0, 0, 0, 0.3));\n",
       "      fill: #FFFFFF;\n",
       "    }\n",
       "  </style>\n",
       "\n",
       "    <script>\n",
       "      const buttonEl =\n",
       "        document.querySelector('#df-519b9fb2-effb-4b16-94fc-45143748d00c button.colab-df-convert');\n",
       "      buttonEl.style.display =\n",
       "        google.colab.kernel.accessAllowed ? 'block' : 'none';\n",
       "\n",
       "      async function convertToInteractive(key) {\n",
       "        const element = document.querySelector('#df-519b9fb2-effb-4b16-94fc-45143748d00c');\n",
       "        const dataTable =\n",
       "          await google.colab.kernel.invokeFunction('convertToInteractive',\n",
       "                                                    [key], {});\n",
       "        if (!dataTable) return;\n",
       "\n",
       "        const docLinkHtml = 'Like what you see? Visit the ' +\n",
       "          '<a target=\"_blank\" href=https://colab.research.google.com/notebooks/data_table.ipynb>data table notebook</a>'\n",
       "          + ' to learn more about interactive tables.';\n",
       "        element.innerHTML = '';\n",
       "        dataTable['output_type'] = 'display_data';\n",
       "        await google.colab.output.renderOutput(dataTable, element);\n",
       "        const docLink = document.createElement('div');\n",
       "        docLink.innerHTML = docLinkHtml;\n",
       "        element.appendChild(docLink);\n",
       "      }\n",
       "    </script>\n",
       "  </div>\n",
       "\n",
       "\n",
       "<div id=\"df-bd8939f9-e00d-4ace-a0ce-270e962f7694\">\n",
       "  <button class=\"colab-df-quickchart\" onclick=\"quickchart('df-bd8939f9-e00d-4ace-a0ce-270e962f7694')\"\n",
       "            title=\"Suggest charts\"\n",
       "            style=\"display:none;\">\n",
       "\n",
       "<svg xmlns=\"http://www.w3.org/2000/svg\" height=\"24px\"viewBox=\"0 0 24 24\"\n",
       "     width=\"24px\">\n",
       "    <g>\n",
       "        <path d=\"M19 3H5c-1.1 0-2 .9-2 2v14c0 1.1.9 2 2 2h14c1.1 0 2-.9 2-2V5c0-1.1-.9-2-2-2zM9 17H7v-7h2v7zm4 0h-2V7h2v10zm4 0h-2v-4h2v4z\"/>\n",
       "    </g>\n",
       "</svg>\n",
       "  </button>\n",
       "\n",
       "<style>\n",
       "  .colab-df-quickchart {\n",
       "      --bg-color: #E8F0FE;\n",
       "      --fill-color: #1967D2;\n",
       "      --hover-bg-color: #E2EBFA;\n",
       "      --hover-fill-color: #174EA6;\n",
       "      --disabled-fill-color: #AAA;\n",
       "      --disabled-bg-color: #DDD;\n",
       "  }\n",
       "\n",
       "  [theme=dark] .colab-df-quickchart {\n",
       "      --bg-color: #3B4455;\n",
       "      --fill-color: #D2E3FC;\n",
       "      --hover-bg-color: #434B5C;\n",
       "      --hover-fill-color: #FFFFFF;\n",
       "      --disabled-bg-color: #3B4455;\n",
       "      --disabled-fill-color: #666;\n",
       "  }\n",
       "\n",
       "  .colab-df-quickchart {\n",
       "    background-color: var(--bg-color);\n",
       "    border: none;\n",
       "    border-radius: 50%;\n",
       "    cursor: pointer;\n",
       "    display: none;\n",
       "    fill: var(--fill-color);\n",
       "    height: 32px;\n",
       "    padding: 0;\n",
       "    width: 32px;\n",
       "  }\n",
       "\n",
       "  .colab-df-quickchart:hover {\n",
       "    background-color: var(--hover-bg-color);\n",
       "    box-shadow: 0 1px 2px rgba(60, 64, 67, 0.3), 0 1px 3px 1px rgba(60, 64, 67, 0.15);\n",
       "    fill: var(--button-hover-fill-color);\n",
       "  }\n",
       "\n",
       "  .colab-df-quickchart-complete:disabled,\n",
       "  .colab-df-quickchart-complete:disabled:hover {\n",
       "    background-color: var(--disabled-bg-color);\n",
       "    fill: var(--disabled-fill-color);\n",
       "    box-shadow: none;\n",
       "  }\n",
       "\n",
       "  .colab-df-spinner {\n",
       "    border: 2px solid var(--fill-color);\n",
       "    border-color: transparent;\n",
       "    border-bottom-color: var(--fill-color);\n",
       "    animation:\n",
       "      spin 1s steps(1) infinite;\n",
       "  }\n",
       "\n",
       "  @keyframes spin {\n",
       "    0% {\n",
       "      border-color: transparent;\n",
       "      border-bottom-color: var(--fill-color);\n",
       "      border-left-color: var(--fill-color);\n",
       "    }\n",
       "    20% {\n",
       "      border-color: transparent;\n",
       "      border-left-color: var(--fill-color);\n",
       "      border-top-color: var(--fill-color);\n",
       "    }\n",
       "    30% {\n",
       "      border-color: transparent;\n",
       "      border-left-color: var(--fill-color);\n",
       "      border-top-color: var(--fill-color);\n",
       "      border-right-color: var(--fill-color);\n",
       "    }\n",
       "    40% {\n",
       "      border-color: transparent;\n",
       "      border-right-color: var(--fill-color);\n",
       "      border-top-color: var(--fill-color);\n",
       "    }\n",
       "    60% {\n",
       "      border-color: transparent;\n",
       "      border-right-color: var(--fill-color);\n",
       "    }\n",
       "    80% {\n",
       "      border-color: transparent;\n",
       "      border-right-color: var(--fill-color);\n",
       "      border-bottom-color: var(--fill-color);\n",
       "    }\n",
       "    90% {\n",
       "      border-color: transparent;\n",
       "      border-bottom-color: var(--fill-color);\n",
       "    }\n",
       "  }\n",
       "</style>\n",
       "\n",
       "  <script>\n",
       "    async function quickchart(key) {\n",
       "      const quickchartButtonEl =\n",
       "        document.querySelector('#' + key + ' button');\n",
       "      quickchartButtonEl.disabled = true;  // To prevent multiple clicks.\n",
       "      quickchartButtonEl.classList.add('colab-df-spinner');\n",
       "      try {\n",
       "        const charts = await google.colab.kernel.invokeFunction(\n",
       "            'suggestCharts', [key], {});\n",
       "      } catch (error) {\n",
       "        console.error('Error during call to suggestCharts:', error);\n",
       "      }\n",
       "      quickchartButtonEl.classList.remove('colab-df-spinner');\n",
       "      quickchartButtonEl.classList.add('colab-df-quickchart-complete');\n",
       "    }\n",
       "    (() => {\n",
       "      let quickchartButtonEl =\n",
       "        document.querySelector('#df-bd8939f9-e00d-4ace-a0ce-270e962f7694 button');\n",
       "      quickchartButtonEl.style.display =\n",
       "        google.colab.kernel.accessAllowed ? 'block' : 'none';\n",
       "    })();\n",
       "  </script>\n",
       "</div>\n",
       "\n",
       "    </div>\n",
       "  </div>\n"
      ],
      "text/plain": [
       "       id                        source_sentence  \\\n",
       "0  132968  Руками обхватила широкие плечи Окота.   \n",
       "1  211801        Под левый сосок в междуреберье.   \n",
       "2  168527         Спуск темною ночью в Никиту...   \n",
       "\n",
       "                            target_sentence source_word target_word  \\\n",
       "0  Руками обхватила широкие плечники Окота.       плечи    плечники   \n",
       "1        Под левый сосокщик в междуреберье.       сосок    сосокщик   \n",
       "2        Спуск темоватною ночью в Никиту...      темною  темоватною   \n",
       "\n",
       "        level      phenomenon             PID         subtype    domain  \\\n",
       "0  Morphology  Word Formation  add_new_suffix  add_new_suffix  librusec   \n",
       "1  Morphology  Word Formation  add_new_suffix  add_new_suffix  librusec   \n",
       "2  Morphology  Word Formation  add_new_suffix  add_new_suffix  librusec   \n",
       "\n",
       "   tree_length  \n",
       "0            2  \n",
       "1            2  \n",
       "2            3  "
      ]
     },
     "execution_count": 5,
     "metadata": {},
     "output_type": "execute_result"
    }
   ],
   "source": [
    "from datasets import load_dataset\n",
    "\n",
    "\n",
    "add_new_suffix = load_dataset(\"RussianNLP/rublimp\", \"add_new_suffix\")\n",
    "add_new_suffix = add_new_suffix[\"train\"].to_pandas()\n",
    "add_new_suffix.head(3)"
   ]
  },
  {
   "cell_type": "code",
   "execution_count": null,
   "metadata": {
    "id": "j2hZbT5zLeCD"
   },
   "outputs": [],
   "source": [
    "from src.scorer import *\n",
    "\n",
    "\n",
    "encoder_model_name = \"DeepPavlov/rubert-base-cased\"\n",
    "encoder_scorer = Scorer(model_name=encoder_model_name)"
   ]
  },
  {
   "cell_type": "code",
   "execution_count": null,
   "metadata": {
    "id": "XRsR_95DL9Py"
   },
   "outputs": [],
   "source": [
    "# scoring a dataset sample for illustration\n",
    "sample = encoder_scorer.run(pool=add_new_suffix.sample(25))"
   ]
  },
  {
   "cell_type": "code",
   "execution_count": 13,
   "metadata": {
    "colab": {
     "base_uri": "https://localhost:8080/"
    },
    "id": "9Q5HJY-1MM5L",
    "outputId": "4dcbf793-13c2-4404-f72e-dc3f856c1947"
   },
   "outputs": [
    {
     "data": {
      "text/plain": [
       "0.84"
      ]
     },
     "execution_count": 13,
     "metadata": {},
     "output_type": "execute_result"
    }
   ],
   "source": [
    "# accuracy on the dataset sample\n",
    "(\n",
    "    sample[\"DeepPavlov-rubert-base-cased-ppl-s\"]\n",
    "    > sample[\"DeepPavlov-rubert-base-cased-ppl-t\"]\n",
    ").mean()"
   ]
  },
  {
   "cell_type": "code",
   "execution_count": null,
   "metadata": {
    "id": "_tNrvcvrKIHi"
   },
   "outputs": [],
   "source": [
    "decoder_model_name = \"Vikhrmodels/Vikhr-7b-0.1\"\n",
    "decoder_scorer = Scorer(model_name=decoder_model_name)"
   ]
  },
  {
   "cell_type": "code",
   "execution_count": null,
   "metadata": {
    "id": "yNsU2ssPNvS0"
   },
   "outputs": [],
   "source": [
    "# scoring a dataset sample for illustration\n",
    "sample = decoder_scorer.run(pool=add_new_suffix.sample(25))"
   ]
  },
  {
   "cell_type": "code",
   "execution_count": 19,
   "metadata": {
    "colab": {
     "base_uri": "https://localhost:8080/"
    },
    "id": "BeZr5vbVO1zx",
    "outputId": "eecfc2a8-08bd-49dd-8847-987f41681989"
   },
   "outputs": [
    {
     "data": {
      "text/plain": [
       "0.8"
      ]
     },
     "execution_count": 19,
     "metadata": {},
     "output_type": "execute_result"
    }
   ],
   "source": [
    "# accuracy on the dataset sample\n",
    "(\n",
    "    sample[\"Vikhrmodels-Vikhr-7b-0.1-ppl-s\"] < sample[\"Vikhrmodels-Vikhr-7b-0.1-ppl-t\"]\n",
    ").mean()"
   ]
  }
 ],
 "metadata": {
  "accelerator": "GPU",
  "colab": {
   "gpuType": "A100",
   "machine_shape": "hm",
   "provenance": []
  },
  "kernelspec": {
   "display_name": "Python 3",
   "name": "python3"
  },
  "language_info": {
   "name": "python"
  }
 },
 "nbformat": 4,
 "nbformat_minor": 0
}
